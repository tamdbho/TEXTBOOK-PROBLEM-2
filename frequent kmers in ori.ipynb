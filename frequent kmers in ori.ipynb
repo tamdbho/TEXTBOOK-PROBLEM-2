{
 "cells": [
  {
   "cell_type": "markdown",
   "metadata": {},
   "source": [
    "# K-MERS IN REPLICATION ORIGIN"
   ]
  },
  {
   "cell_type": "markdown",
   "metadata": {},
   "source": [
    "Find a potential conserved domain that may be important to protein function\n",
    "\n",
    "Approach: find a k-mer that appear more frequently than expected"
   ]
  },
  {
   "cell_type": "code",
   "execution_count": 9,
   "metadata": {},
   "outputs": [
    {
     "name": "stdout",
     "output_type": "stream",
     "text": [
      "{'CGGAC': 1, 'GGACT': 1, 'GACTC': 2, 'ACTCG': 2, 'CTCGA': 2, 'TCGAC': 2, 'CGACA': 4, 'GACAG': 2, 'ACAGA': 2, 'CAGAT': 1, 'AGATG': 1, 'GATGT': 1, 'ATGTG': 2, 'TGTGA': 2, 'GTGAA': 3, 'TGAAG': 3, 'GAAGA': 4, 'AAGAA': 1, 'AGAAC': 1, 'GAACG': 1, 'AACGA': 1, 'ACGAC': 2, 'GACAA': 1, 'ACAAT': 1, 'CAATG': 1, 'AATGT': 1, 'AAGAC': 1, 'AGACT': 1, 'GACAC': 1, 'ACACG': 1, 'CACGA': 1, 'CAGAG': 1, 'AGAGT': 1, 'GAGTG': 1, 'AGTGA': 1, 'AAGAG': 2, 'AGAGA': 1, 'GAGAA': 1, 'AGAAG': 1, 'AGAGG': 1, 'GAGGA': 1, 'AGGAA': 1, 'GGAAA': 1, 'GAAAC': 1, 'AAACA': 1, 'AACAT': 1, 'ACATT': 1, 'CATTG': 1, 'ATTGT': 1, 'TTGTA': 1, 'TGTAA': 1}\n",
      "K-mers: ['CGACA', 'GAAGA']\tCount: 4\n"
     ]
    }
   ],
   "source": [
    "dna = 'CGGACTCGACAGATGTGAAGAACGACAATGTGAAGACTCGACACGACAGAGTGAAGAGAAGAGGAAACATTGTAA'\n",
    "k = 5\n",
    "\n",
    "# Create a dictionary for kmer and their count\n",
    "# Input: DNA string + k-value\n",
    "# Output: Dictionary containing all k-mers and their respective count\n",
    "def frequency_dictionary (dna,k):\n",
    "    kmer_counter = {}\n",
    "    for i in range(0,len(dna)-k+1,1):\n",
    "        kmer = dna [i:i+k]\n",
    "        if not kmer_counter.get(kmer):\n",
    "            kmer_counter[kmer] = 1\n",
    "        else:\n",
    "            kmer_counter[kmer] = kmer_counter[kmer] + 1\n",
    "    return (kmer_counter)\n",
    "print(frequency_dictionary(dna,k))\n",
    "\n",
    "# Use frequncy_dictionary() function to identify k-mer(s) that appear the most frequent\n",
    "# Input: DNA string + k-value \n",
    "# Output: kmer sequence(s) and their count\n",
    "def frequent_kmers (dna,k):\n",
    "    all_kmers = frequency_dictionary(dna,k)\n",
    "    max_count = max(all_kmers.values())     # Identify the highest frequency\n",
    "    kmers = []\n",
    "\n",
    "    for kmer, kmer_count in all_kmers.items():\n",
    "        if kmer_count == max_count:\n",
    "            kmers.append(kmer)\n",
    "    return ('K-mers: ' + str(kmers) + '\\t' + 'Count: ' + str(max_count))\n",
    "print (frequent_kmers(dna,k))"
   ]
  },
  {
   "cell_type": "markdown",
   "metadata": {},
   "source": [
    "Applying the above function on Replication origin of Vibrio cholerae"
   ]
  },
  {
   "cell_type": "code",
   "execution_count": 16,
   "metadata": {},
   "outputs": [
    {
     "name": "stdout",
     "output_type": "stream",
     "text": [
      "We expect one 8-mer every 65536 nucleotides \n",
      "Length of DNA sequence is: 540\n",
      "K-MERS: ['ATGATCAA']\tCOUNT: 4\n"
     ]
    }
   ],
   "source": [
    "vibrio_ori = 'atcaatgatcaacgtaagcttctaagcatgatcaaggtgctcacacagtttatccacaacctgagtggatgacatcaagataggtcgttgtatctccttcctctcgtactctcatgaccacggaaagatgatcaagagaggatgatttcttggccatatcgcaatgaatacttgtgacttgtgcttccaattgacatcttcagcgccatattgcgctggccaaggtgacggagcgggattacgaaagcatgatcatggctgttgttctgtttatcttgttttgactgagacttgttaggatagacggtttttcatcactgactagccaaagccttactctgcctgacatcgaccgtaaattgataatgaatttacatgcttccgcgacgatttacctcttgatcatcgatccgattgaagatcttcaattgttaattctcttgcctcgactcatagccatgatgagctcttgatcatgtttccttaaccctctattttttacggaagaatgatcaagctgctgctcttgatcatcgtttc'\n",
    "k = 8\n",
    "length = len(vibrio_ori)\n",
    "# Create a function to gauge the expected frequency of 8 mers in given length of DNA\n",
    "def Calculate_exp_kmer (dna,k):\n",
    "    chance_appearance = pow (4 ,k)  \n",
    "    return ('We expect one ' +str(k)+'-mer every ' + str(chance_appearance) + ' nucleotides ' )\n",
    "\n",
    "print(Calculate_exp_kmer(vibrio_ori,k))\n",
    "print ('Length of DNA sequence is: ' + str(length))\n",
    "print(frequent_kmers(vibrio_ori,k).upper())"
   ]
  },
  {
   "cell_type": "markdown",
   "metadata": {},
   "source": [
    "For an 8-mer to appear up to 4 times within a length of 540 nucleotides is surprising and worth investigating into the function of this domain in terms of initiation replication. "
   ]
  }
 ],
 "metadata": {
  "kernelspec": {
   "display_name": "Python 3.10.5 64-bit",
   "language": "python",
   "name": "python3"
  },
  "language_info": {
   "codemirror_mode": {
    "name": "ipython",
    "version": 3
   },
   "file_extension": ".py",
   "mimetype": "text/x-python",
   "name": "python",
   "nbconvert_exporter": "python",
   "pygments_lexer": "ipython3",
   "version": "3.10.5"
  },
  "orig_nbformat": 4,
  "vscode": {
   "interpreter": {
    "hash": "aee8b7b246df8f9039afb4144a1f6fd8d2ca17a180786b69acc140d282b71a49"
   }
  }
 },
 "nbformat": 4,
 "nbformat_minor": 2
}
